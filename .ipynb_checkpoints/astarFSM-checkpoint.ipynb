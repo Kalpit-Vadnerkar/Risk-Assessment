{
 "cells": [
  {
   "cell_type": "code",
   "execution_count": 8,
   "id": "2be86e9f",
   "metadata": {},
   "outputs": [],
   "source": [
    "import numpy as np\n",
    "import random\n",
    "import matplotlib.pyplot as plt\n",
    "import math\n",
    "\n",
    "class World:\n",
    "    def __init__(self):\n",
    "        self.height = height\n",
    "        self.width = width\n",
    "        self.obstacles = obstacles\n",
    "        self.start = start\n",
    "        self.goal = goal\n",
    "        self.map = np.zeros((self.width, self.height))\n",
    "        self.obstacle_list = []\n",
    "        \n",
    "        \n",
    "        # setting random obstacles\n",
    "        count = self.obstacles\n",
    "        while(count):\n",
    "            i = (random.randint(1, self.width-1), random.randint(1, self.height-1))\n",
    "            if (i not in self.obstacle_list and i != self.goal):\n",
    "                count = count - 1\n",
    "                self.obstacle_list.append(i)\n",
    "                self.map[i[0]][i[1]] = 1\n"
   ]
  },
  {
   "cell_type": "code",
   "execution_count": 9,
   "id": "cc847088",
   "metadata": {},
   "outputs": [],
   "source": [
    "def get_child_nodes(position, head, speed, index):\n",
    "    # [North, North-East, East, South-East, South, South-West, West, North-West]\n",
    "    # input --> a position and the vehicle head (index of the \"head\" list that has the value 1)\n",
    "    # output --> list of 3 child nodes. \n",
    "    # Each child node has --> { node position,\n",
    "    #                           head (index) for that position,\n",
    "    #                           action taken to reach that position, (0:3)\n",
    "    #                           speed\n",
    "    #                           cost of node node\n",
    "    #                           index of the parent node in \"closed_nodes\" }\n",
    "    cells = []\n",
    "    if head == 0: # North\n",
    "        cells.append(((position[0], position[1] + 1), head, 0, speed, 0, index)) # cruise\n",
    "        cells.append(((position[0] - 1, position[1] + 1), (head - 1) % 8, 1, speed, 0, index))    # cruise left\n",
    "        cells.append(((position[0] + 1, position[1] + 1), (head + 1) % 8, 2, speed, 0, index))    # cruise right\n",
    "    elif head == 1: # North-East\n",
    "        cells.append(((position[0] + 1, position[1] + 1), head, 0, speed, 0, index))\n",
    "        cells.append(((position[0], position[1] + 1), (head - 1) % 8, 1, speed, 0, index))\n",
    "        cells.append(((position[0] + 1, position[1]), (head + 1) % 8, 2, speed, 0, index))\n",
    "    elif head == 2: # East\n",
    "        cells.append(((position[0] + 1, position[1]), head, 0, speed, 0, index))\n",
    "        cells.append(((position[0] + 1, position[1] + 1), (head - 1) % 8, 1, speed, 0, index))\n",
    "        cells.append(((position[0] + 1, position[1] - 1), (head + 1) % 8, 2, speed, 0, index))\n",
    "    elif head == 3: # South-East\n",
    "        cells.append(((position[0] + 1, position[1] - 1), head, 0, speed, 0, index))\n",
    "        cells.append(((position[0] + 1, position[1]), (head - 1) % 8, 1, speed, 0, index))\n",
    "        cells.append(((position[0], position[1] - 1), (head + 1) % 8, 2, speed, 0, index))\n",
    "    elif head == 4: # South\n",
    "        cells.append(((position[0], position[1] - 1), head, 0, speed, 0, index))\n",
    "        cells.append(((position[0] + 1, position[1] - 1), (head - 1) % 8, 1, speed, 0, index))\n",
    "        cells.append(((position[0] - 1, position[1] - 1), (head + 1) % 8, 2, speed, 0, index))\n",
    "    elif head == 5: # South-West\n",
    "        cells.append(((position[0] - 1, position[1] - 1), head, 0, speed, 0, index))\n",
    "        cells.append(((position[0], position[1] - 1), (head - 1) % 8, 1, speed, 0, index))\n",
    "        cells.append(((position[0] - 1, position[1]), (head + 1) % 8, 2, speed, 0, index))\n",
    "    elif head == 6: # West\n",
    "        cells.append(((position[0] - 1, position[1]), head, 0, speed, 0, index))\n",
    "        cells.append(((position[0] - 1, position[1] - 1), (head - 1) % 8, 1, speed, 0, index))\n",
    "        cells.append(((position[0] - 1, position[1] + 1), (head + 1) % 8, 2, speed, 0, index))\n",
    "    elif head == 7: # North-West\n",
    "        cells.append(((position[0] - 1, position[1] + 1), head, 0, speed, 0, index))\n",
    "        cells.append(((position[0] - 1, position[1]), (head - 1) % 8, 1, speed, 0, index))\n",
    "        cells.append(((position[0], position[1] + 1), (head + 1) % 8, 2, speed, 0, index))\n",
    "    return cells\n",
    "\n",
    "def manhattan_cost(x, y):\n",
    "    return sum(abs(val1-val2) for val1, val2 in zip(x, y))\n",
    "    \n",
    "def myFunc(e):\n",
    "    return e[3] # fuction to return cost of a node. Used for sorting tree."
   ]
  },
  {
   "cell_type": "code",
   "execution_count": 15,
   "id": "daad3c66",
   "metadata": {},
   "outputs": [
    {
     "data": {
      "text/plain": [
       "7"
      ]
     },
     "execution_count": 15,
     "metadata": {},
     "output_type": "execute_result"
    }
   ],
   "source": [
    "-1%8"
   ]
  },
  {
   "cell_type": "code",
   "execution_count": 10,
   "id": "25ec1c45",
   "metadata": {},
   "outputs": [],
   "source": [
    "class Vehicle:\n",
    "    def __init__(self, start, world):\n",
    "        self.position = list(start)\n",
    "        self.goal = world.goal\n",
    "        self.head = [1,0,0,0,0,0,0,0] # Direction of the vehicle [North, North-East, East, South-East, South, South-West, West, North-West]\n",
    "        self.height = world.height\n",
    "        self.width = world.width\n",
    "        self.map = np.zeros((self.height, self.width))\n",
    "        self.real_map = world.map\n",
    "        self.vision = 5 # camera strength\n",
    "        self.speed = 0 # 0 = stop, 1\n",
    "        self.path = [] # list of cells vehicle has already visited\n",
    "        self.next_steps = [] # list of actions the vehicle should take next (0 = cruise, 1 = cruise left, 2 = cruise right)\n",
    "    \n",
    "    def update_map(self):\n",
    "        # vehicle level perception\n",
    "        # updates the vehicle map with respect to the position of the vehicle\n",
    "        obstacle = False\n",
    "        if self.head[0] == 1:\n",
    "            for i in range(self.position[0] - self.vision, self.position[0] + self.vision + 1):\n",
    "                if i >= 0 and i < self.width:\n",
    "                    for j in range(self.position[1] + self.vision + 1):\n",
    "                        if j >=0 and j < self.height:\n",
    "                            self.map[i][j] = self.real_map[i][j]\n",
    "                            if self.map[i][j]:\n",
    "                                obstacle = True\n",
    "        elif self.head[1] == 1:\n",
    "            for i in range(self.position[0] + self.vision + 1):\n",
    "                if i >= 0 and i < self.width:\n",
    "                    for j in range(self.position[1] - self.vision, self.position[1] + self.vision + 1):\n",
    "                        if j >=0 and j < self.height:\n",
    "                            self.map[i][j] = self.real_map[i][j]\n",
    "                            if self.map[i][j]:\n",
    "                                obstacle = True\n",
    "        elif self.head[2] == 1:\n",
    "            for i in range(self.position[0] - self.vision, self.position[0] + self.vision + 1):\n",
    "                if i >= 0 and i < self.width:\n",
    "                    for j in range(self.position[1] - self.vision + 1):\n",
    "                        if j >=0 and j < self.height:\n",
    "                            self.map[i][j] = self.real_map[i][j]\n",
    "                            if self.map[i][j]:\n",
    "                                obstacle = True\n",
    "        elif self.head[3] == 1:\n",
    "            for i in range(self.position[0] - self.vision + 1):\n",
    "                if i >= 0 and i < self.width:\n",
    "                    for j in range(self.position[1] - self.vision, self.position[1] + self.vision + 1):\n",
    "                        if j >=0 and j < self.height:\n",
    "                            self.map[i][j] = self.real_map[i][j]\n",
    "                            if self.map[i][j]:\n",
    "                                obstacle = True\n",
    "        return obstacle\n",
    "    \n",
    "    def update_path(self):\n",
    "        self.next_steps.pop(0)\n",
    "    \n",
    "    def cruise(self):\n",
    "        # moves the vehicle forward in the same direction\n",
    "        self.position[0] = self.position[0] + (self.head[1] - self.head[3])\n",
    "        self.position[1] = self.position[1] + (self.head[0] - self.head[2])\n",
    "        \n",
    "        \n",
    "    def cruise_left(self):\n",
    "        # moves the vehicle to the left cell and rotates head -90 degrees\n",
    "        if self.head.index(1) == 0:\n",
    "            self.head[0] = 0\n",
    "            self.head[3] = 1\n",
    "        else:\n",
    "            self.head[self.head.index(1) - 1] = 1\n",
    "            self.head[self.head.index(1) + 1] = 0 # There are 2 places where tha value is 1. Changing the 2nd one \n",
    "        self.position[0] = self.position[0] + (self.head[1] - self.head[3])\n",
    "        self.position[1] = self.position[1] + (self.head[0] - self.head[2])\n",
    "        \n",
    "    \n",
    "    def cruise_right(self):\n",
    "        # moves the vehicle to the right cell and rotates head 90 degrees\n",
    "        if self.head.index(1) == 3:\n",
    "            self.head[0] = 1\n",
    "            self.head[3] = 0\n",
    "        else:\n",
    "            self.head[self.head.index(1) + 1] = 1\n",
    "            self.head[self.head.index(1)] = 0\n",
    "        self.position[0] = self.position[0] + (self.head[1] - self.head[3])\n",
    "        self.position[1] = self.position[1] + (self.head[0] - self.head[2])\n",
    "        \n",
    "    \n",
    "    def astar(self):\n",
    "        # updates the list \"next_steps\" with a set of instructions (according to the A* algorithm) to reach the goal\n",
    "        # cruise = 0, cruise left = 1, cruise right = 2\n",
    "        self.next_steps.clear()\n",
    "        count = 0\n",
    "        root = (self.position, self.head.index(1), 0, 0, None)\n",
    "        tree = [] # A list of nodes that need to be explored\n",
    "        # Each node has --> { node position,\n",
    "        #                     head (index) for that position,\n",
    "        #                     action taken to reach that position,\n",
    "        #                     speed\n",
    "        #                     cost of node node\n",
    "        #                     index of the parent node in \"closed_nodes\" }\n",
    "        closed_nodes = [] # A list of nodes that have been explored\n",
    "        tree.insert(count, root)\n",
    "        while len(tree):\n",
    "            parent_node = tree[0]\n",
    "            tree.pop(0)\n",
    "            if parent_node[0] == self.goal:\n",
    "                node = parent_node\n",
    "                while node[4] != 0: # retracing the path from goal to vehicle position\n",
    "                    self.next_steps.append(node[2]) # action taken to reach that node\n",
    "                    node = closed_nodes[node[4]]\n",
    "                self.next_steps.append(node[2])\n",
    "                self.next_steps.reverse() # list of actions to perform from vehicle position to goal\n",
    "                break\n",
    "            closed_nodes.insert(count, parent_node)\n",
    "            children = get_child_nodes(parent_node[0], parent_node[1], count)\n",
    "            count = count + 1\n",
    "            cost = 0\n",
    "            for child in children:\n",
    "                if child not in closed_nodes:\n",
    "                    if child[0][0] < width and child[0][1] < height and child[0][0] >= 0 and child[0][1] >= 0:\n",
    "                        if not self.map[child[0][0]][child[0][1]]: # check of obstacle\n",
    "                            # g(n) exact cost from vehicle position to new position \n",
    "                            # h(n) huristic cost from new position to goal\n",
    "                            # i(n) speed\n",
    "                            # f(n) = g(n) + h(n) - i(n)\n",
    "                            cost = manhattan_cost(self.position, child[0]) + manhattan_cost(child[0], self.goal)\n",
    "                            temp = list(child) # List <--> Tuple typecasting (cannot change values of a tuple)\n",
    "                            temp[3] = cost\n",
    "                            child = tuple(temp)\n",
    "                            tree.append(child)\n",
    "            random.shuffle(tree) # nodes with same cost should be chosen at random\n",
    "            tree.sort(key = myFunc)\n"
   ]
  },
  {
   "cell_type": "code",
   "execution_count": 11,
   "id": "e1a30fd5",
   "metadata": {},
   "outputs": [],
   "source": [
    "class Automata():\n",
    "    def __init__(self):\n",
    "        # Finite State Machine for Vehicle\n",
    "        # States = {Enter, Cruise, Cruise Left, Cruise Right, Exit, Fail State}\n",
    "        self.states = ['Enter', 'Cruise', 'Cruise_Left', 'Cruise Right', 'Exit', 'Fail State']\n",
    "        self.state_count = [0, 0, 0, 0, 0, 0]\n",
    "        self.state = 'Enter' # set initial state  \n",
    "        self.world = World() # initialize world\n",
    "        self.vehicle = Vehicle(start, self.world) # initialize vehicle in the world\n",
    "        self.vehicle.update_map() # initialize vehicle perception\n",
    "        self.vehicle.astar() # initialize vehicle planning\n",
    "        self.transitions = 0\n",
    "        self.matrix = np.zeros((6,6)) # State Transition Matrix: State(x) --> State(y)\n",
    "    \n",
    "    def start(self):\n",
    "        self.transitions += 1\n",
    "        self.state_count[0] += 1\n",
    "        while tuple(self.vehicle.position) != self.vehicle.goal:\n",
    "            if self.vehicle.next_steps[0] == 0:\n",
    "                self.vehicle.cruise()\n",
    "                self.matrix[self.states.index(self.state)][1] += 1\n",
    "                self.state = self.states[1]\n",
    "                self.state_count[1] += 1\n",
    "            elif self.vehicle.next_steps[0] == 1:\n",
    "                self.vehicle.cruise_left()\n",
    "                self.matrix[self.states.index(self.state)][2] += 1\n",
    "                self.state = self.states[2]\n",
    "                self.state_count[2] += 1\n",
    "            elif self.vehicle.next_steps[0] == 2:\n",
    "                self.vehicle.cruise_right()\n",
    "                self.matrix[self.states.index(self.state)][3] += 1\n",
    "                self.state = self.states[3]\n",
    "                self.state_count[3] += 1\n",
    "            self.vehicle.update_path()\n",
    "            if self.world.map[self.vehicle.position[0]][self.vehicle.position[1]]: # Collision check\n",
    "                self.matrix[self.states.index(self.state)][5] += 1\n",
    "                self.state = self.states[5]\n",
    "                self.state_count[5] += 1\n",
    "                self.transitions += 1\n",
    "                break\n",
    "            self.transitions += 1\n",
    "            if self.vehicle.update_map():\n",
    "                self.vehicle.astar()\n",
    "            self.vehicle.path.append(tuple(self.vehicle.position))\n",
    "        if tuple(self.vehicle.position) == self.vehicle.goal:\n",
    "            self.matrix[self.states.index(self.state)][4] += 1\n",
    "            self.state = self.states[4]\n",
    "            self.state_count[4] += 1\n",
    "            self.transitions += 1         \n",
    "      "
   ]
  },
  {
   "cell_type": "code",
   "execution_count": 12,
   "id": "12cf02eb",
   "metadata": {},
   "outputs": [
    {
     "name": "stdout",
     "output_type": "stream",
     "text": [
      "[[0. 1. 0. 0. 0. 0.]\n",
      " [0. 7. 3. 1. 1. 0.]\n",
      " [0. 1. 0. 2. 0. 0.]\n",
      " [0. 3. 0. 0. 0. 0.]\n",
      " [0. 0. 0. 0. 0. 0.]\n",
      " [0. 0. 0. 0. 0. 0.]]\n"
     ]
    },
    {
     "data": {
      "text/plain": [
       "<matplotlib.collections.PathCollection at 0x200a9457130>"
      ]
     },
     "execution_count": 12,
     "metadata": {},
     "output_type": "execute_result"
    },
    {
     "data": {
      "image/png": "[encoded data removed]",
      "text/plain": [
       "<Figure size 432x288 with 1 Axes>"
      ]
     },
     "metadata": {
      "needs_background": "light"
     },
     "output_type": "display_data"
    }
   ],
   "source": [
    "height = 10\n",
    "width = 10\n",
    "obstacles = 5\n",
    "start = (0,0)\n",
    "goal = (9,9)\n",
    "\n",
    "machine = Automata()\n",
    "machine.start()\n",
    "\n",
    "print(machine.matrix)\n",
    "plt.scatter(*zip(*machine.world.obstacle_list)) \n"
   ]
  },
  {
   "cell_type": "code",
   "execution_count": 13,
   "id": "3776ae5f",
   "metadata": {},
   "outputs": [
    {
     "name": "stdout",
     "output_type": "stream",
     "text": [
      "[(0, 1), (0, 2), (1, 2), (2, 2), (3, 2), (3, 3), (4, 3), (5, 3), (5, 4), (6, 4), (7, 4), (8, 4), (9, 4), (9, 5), (9, 6), (9, 7), (9, 8), (9, 9)]\n"
     ]
    },
    {
     "data": {
      "text/plain": [
       "<matplotlib.collections.PathCollection at 0x200a9497520>"
      ]
     },
     "execution_count": 13,
     "metadata": {},
     "output_type": "execute_result"
    },
    {
     "data": {
      "image/png": "[encoded data removed]",
      "text/plain": [
       "<Figure size 432x288 with 1 Axes>"
      ]
     },
     "metadata": {
      "needs_background": "light"
     },
     "output_type": "display_data"
    }
   ],
   "source": [
    "print(machine.vehicle.path)\n",
    "plt.scatter(*zip(*machine.vehicle.path)) "
   ]
  },
  {
   "cell_type": "code",
   "execution_count": 14,
   "id": "19e9a4bc",
   "metadata": {},
   "outputs": [
    {
     "name": "stdout",
     "output_type": "stream",
     "text": [
      "0.2\n"
     ]
    },
    {
     "data": {
      "text/plain": [
       "<BarContainer object of 6 artists>"
      ]
     },
     "execution_count": 14,
     "metadata": {},
     "output_type": "execute_result"
    },
    {
     "data": {
      "image/png": "[encoded data removed]",
      "text/plain": [
       "<Figure size 432x288 with 1 Axes>"
      ]
     },
     "metadata": {
      "needs_background": "light"
     },
     "output_type": "display_data"
    }
   ],
   "source": [
    "x = ['Enter', 'Cruise', 'Cruise_Left', 'Cruise Right', 'Exit', 'Fail State']\n",
    "#y = [i / machine.transitions for i in machine.state_count]\n",
    "y = [i / 100 for i in machine.state_count]\n",
    "print(sum(y))\n",
    "fig, ax = plt.subplots()\n",
    "ax.bar(x, y)\n"
   ]
  },
  {
   "cell_type": "code",
   "execution_count": null,
   "id": "c7894167",
   "metadata": {},
   "outputs": [],
   "source": []
  },
  {
   "cell_type": "code",
   "execution_count": null,
   "id": "f1e3d4d2",
   "metadata": {},
   "outputs": [],
   "source": []
  }
 ],
 "metadata": {
  "kernelspec": {
   "display_name": "Python 3 (ipykernel)",
   "language": "python",
   "name": "python3"
  },
  "language_info": {
   "codemirror_mode": {
    "name": "ipython",
    "version": 3
   },
   "file_extension": ".py",
   "mimetype": "text/x-python",
   "name": "python",
   "nbconvert_exporter": "python",
   "pygments_lexer": "ipython3",
   "version": "3.9.12"
  }
 },
 "nbformat": 4,
 "nbformat_minor": 5
}
